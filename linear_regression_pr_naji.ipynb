{
  "nbformat": 4,
  "nbformat_minor": 0,
  "metadata": {
    "colab": {
      "provenance": [],
      "collapsed_sections": []
    },
    "kernelspec": {
      "name": "python3",
      "display_name": "Python 3"
    },
    "language_info": {
      "name": "python"
    }
  },
  "cells": [
    {
      "cell_type": "code",
      "source": [
        "import numpy as np\n",
        "import matplotlib.pyplot as plt"
      ],
      "metadata": {
        "id": "3qh1_ENTaPuk"
      },
      "execution_count": 1,
      "outputs": []
    },
    {
      "cell_type": "code",
      "execution_count": 2,
      "metadata": {
        "id": "_TZMb_k3O7rG"
      },
      "outputs": [],
      "source": [
        "# les étapes\n",
        "# 1 -data\n",
        "# x=?\n",
        "# y=?\n",
        "# 2 - Learning\n",
        "# 2.1 initialisation du modèle (biaias, w1)\n",
        "# 2.2 prédiction py=biaias+w1*x1\n",
        "# 2.2 erreur=?\n",
        "# update parameters biaias et w1"
      ]
    },
    {
      "cell_type": "code",
      "source": [
        "X= [1,2,3,4,7,9,11]\n",
        "y= [4,7,10,13,22,28,34]"
      ],
      "metadata": {
        "id": "QC6iewHpZLLX"
      },
      "execution_count": 3,
      "outputs": []
    },
    {
      "cell_type": "code",
      "source": [
        "X=np.array(X)\n",
        "y=np.array(y)"
      ],
      "metadata": {
        "id": "OyhrPvl1aIPJ"
      },
      "execution_count": 4,
      "outputs": []
    },
    {
      "cell_type": "code",
      "source": [
        "def fit(X,y):\n",
        "  #1. initialisation\n",
        "  bias= 1\n",
        "  w1 = 0.5\n",
        "  w1_list =[]\n",
        "  mse_list=[]\n",
        "  lr=0.01\n",
        "  for i in range(50):\n",
        "    # 2. predication\n",
        "    py = bias + w1*X\n",
        "    # print(py)\n",
        "    # print(y)\n",
        "    # error\n",
        "    er = py - y\n",
        "    squared_er = er**2\n",
        "    sum_squared_er = sum(squared_er)\n",
        "    mean_squared_er = sum_squared_er/len(y)\n",
        "    # print(er)\n",
        "    # print(squared_er)\n",
        "    # print(sum_squared_er)\n",
        "    print(w1,\"------>\",mean_squared_er)\n",
        "\n",
        "    #update weights\n",
        "    #bias = bias + 0.1\n",
        "    w1_list.append(w1)\n",
        "    mse_list.append(mean_squared_er)\n",
        "    #w1 = w1+ 0.1 #mauvaise technique de maj\n",
        "    dw1=-(2/len(y))*sum(X*(y-py))\n",
        "    w1=w1-dw1*lr\n",
        "    #deux problems de mise a jour\n",
        "    #problem :sens\n",
        "    #problem :pas\n",
        "  return bias, w1, w1_list, mse_list"
      ],
      "metadata": {
        "id": "UF3cmDJKZLXK"
      },
      "execution_count": 5,
      "outputs": []
    },
    {
      "cell_type": "code",
      "source": [
        "bias,w1,w1_list, mse_list=fit(X,y)"
      ],
      "metadata": {
        "colab": {
          "base_uri": "https://localhost:8080/"
        },
        "id": "vn5-vYTLZLaD",
        "outputId": "9ea190a3-ff73-4a7c-d882-9f04c06f1238"
      },
      "execution_count": 6,
      "outputs": [
        {
          "output_type": "stream",
          "name": "stdout",
          "text": [
            "0.5 ------> 250.89285714285714\n",
            "2.507142857142857 ------> 9.751027696793003\n",
            "2.9028367346938775 ------> 0.3789766764443377\n",
            "2.9808449562682213 ------> 0.014729044543277907\n",
            "2.9962237199500206 ------> 0.0005724488250657602\n",
            "2.9992555333615756 ------> 2.2248398825608997e-05\n",
            "2.9998532337198536 ------> 8.646908310915331e-07\n",
            "2.9999710660761996 ------> 3.360647385172241e-08\n",
            "2.9999942958835937 ------> 1.306125893880544e-09\n",
            "2.999998875474194 ------> 5.076298268845035e-11\n",
            "2.9999997783077696 ------> 1.972918865405136e-12\n",
            "2.9999999562949604 ------> 7.667809470905003e-14\n",
            "2.9999999913838633 ------> 2.980117897131602e-15\n",
            "2.9999999983013903 ------> 1.158231903547295e-16\n",
            "2.9999999996651314 ------> 4.501496769484051e-18\n",
            "2.999999999933983 ------> 1.749526862038826e-19\n",
            "2.999999999986985 ------> 6.799838889403137e-21\n",
            "2.9999999999974345 ------> 2.642307886988354e-22\n",
            "2.999999999999494 ------> 1.0269325366107942e-23\n",
            "2.9999999999999 ------> 4.0149788563398473e-25\n",
            "2.9999999999999805 ------> 1.5238989578229443e-26\n",
            "2.999999999999996 ------> 6.253694826139571e-28\n",
            "2.999999999999999 ------> 2.5807021042230244e-29\n",
            "2.9999999999999996 ------> 1.1861087182073071e-29\n",
            "3.0 ------> 0.0\n",
            "3.0 ------> 0.0\n",
            "3.0 ------> 0.0\n",
            "3.0 ------> 0.0\n",
            "3.0 ------> 0.0\n",
            "3.0 ------> 0.0\n",
            "3.0 ------> 0.0\n",
            "3.0 ------> 0.0\n",
            "3.0 ------> 0.0\n",
            "3.0 ------> 0.0\n",
            "3.0 ------> 0.0\n",
            "3.0 ------> 0.0\n",
            "3.0 ------> 0.0\n",
            "3.0 ------> 0.0\n",
            "3.0 ------> 0.0\n",
            "3.0 ------> 0.0\n",
            "3.0 ------> 0.0\n",
            "3.0 ------> 0.0\n",
            "3.0 ------> 0.0\n",
            "3.0 ------> 0.0\n",
            "3.0 ------> 0.0\n",
            "3.0 ------> 0.0\n",
            "3.0 ------> 0.0\n",
            "3.0 ------> 0.0\n",
            "3.0 ------> 0.0\n",
            "3.0 ------> 0.0\n"
          ]
        }
      ]
    },
    {
      "cell_type": "code",
      "source": [
        "plt.plot([5,6],[12,10])\n",
        "#plt.plot([la lite des w],[la liste des erreurs])"
      ],
      "metadata": {
        "colab": {
          "base_uri": "https://localhost:8080/",
          "height": 282
        },
        "id": "htutPo1AgLch",
        "outputId": "436ca50a-e0e2-441c-fe42-94556a1ad0d9"
      },
      "execution_count": 7,
      "outputs": [
        {
          "output_type": "execute_result",
          "data": {
            "text/plain": [
              "[<matplotlib.lines.Line2D at 0x7f8cbd2e38d0>]"
            ]
          },
          "metadata": {},
          "execution_count": 7
        },
        {
          "output_type": "display_data",
          "data": {
            "text/plain": [
              "<Figure size 432x288 with 1 Axes>"
            ],
            "image/png": "[encoded data removed]"
          },
          "metadata": {
            "needs_background": "light"
          }
        }
      ]
    },
    {
      "cell_type": "code",
      "source": [
        "mse_list"
      ],
      "metadata": {
        "colab": {
          "base_uri": "https://localhost:8080/"
        },
        "id": "wAFwT5EjhBX_",
        "outputId": "d469138b-1817-45c4-f706-37696eeed8b0"
      },
      "execution_count": 8,
      "outputs": [
        {
          "output_type": "execute_result",
          "data": {
            "text/plain": [
              "[250.89285714285714,\n",
              " 9.751027696793003,\n",
              " 0.3789766764443377,\n",
              " 0.014729044543277907,\n",
              " 0.0005724488250657602,\n",
              " 2.2248398825608997e-05,\n",
              " 8.646908310915331e-07,\n",
              " 3.360647385172241e-08,\n",
              " 1.306125893880544e-09,\n",
              " 5.076298268845035e-11,\n",
              " 1.972918865405136e-12,\n",
              " 7.667809470905003e-14,\n",
              " 2.980117897131602e-15,\n",
              " 1.158231903547295e-16,\n",
              " 4.501496769484051e-18,\n",
              " 1.749526862038826e-19,\n",
              " 6.799838889403137e-21,\n",
              " 2.642307886988354e-22,\n",
              " 1.0269325366107942e-23,\n",
              " 4.0149788563398473e-25,\n",
              " 1.5238989578229443e-26,\n",
              " 6.253694826139571e-28,\n",
              " 2.5807021042230244e-29,\n",
              " 1.1861087182073071e-29,\n",
              " 0.0,\n",
              " 0.0,\n",
              " 0.0,\n",
              " 0.0,\n",
              " 0.0,\n",
              " 0.0,\n",
              " 0.0,\n",
              " 0.0,\n",
              " 0.0,\n",
              " 0.0,\n",
              " 0.0,\n",
              " 0.0,\n",
              " 0.0,\n",
              " 0.0,\n",
              " 0.0,\n",
              " 0.0,\n",
              " 0.0,\n",
              " 0.0,\n",
              " 0.0,\n",
              " 0.0,\n",
              " 0.0,\n",
              " 0.0,\n",
              " 0.0,\n",
              " 0.0,\n",
              " 0.0,\n",
              " 0.0]"
            ]
          },
          "metadata": {},
          "execution_count": 8
        }
      ]
    },
    {
      "cell_type": "code",
      "source": [
        "w1_list"
      ],
      "metadata": {
        "colab": {
          "base_uri": "https://localhost:8080/"
        },
        "id": "iOyLwJGngDfd",
        "outputId": "4dc7b7f8-a51f-4459-e9f4-f18c89ebd33c"
      },
      "execution_count": 9,
      "outputs": [
        {
          "output_type": "execute_result",
          "data": {
            "text/plain": [
              "[0.5,\n",
              " 2.507142857142857,\n",
              " 2.9028367346938775,\n",
              " 2.9808449562682213,\n",
              " 2.9962237199500206,\n",
              " 2.9992555333615756,\n",
              " 2.9998532337198536,\n",
              " 2.9999710660761996,\n",
              " 2.9999942958835937,\n",
              " 2.999998875474194,\n",
              " 2.9999997783077696,\n",
              " 2.9999999562949604,\n",
              " 2.9999999913838633,\n",
              " 2.9999999983013903,\n",
              " 2.9999999996651314,\n",
              " 2.999999999933983,\n",
              " 2.999999999986985,\n",
              " 2.9999999999974345,\n",
              " 2.999999999999494,\n",
              " 2.9999999999999,\n",
              " 2.9999999999999805,\n",
              " 2.999999999999996,\n",
              " 2.999999999999999,\n",
              " 2.9999999999999996,\n",
              " 3.0,\n",
              " 3.0,\n",
              " 3.0,\n",
              " 3.0,\n",
              " 3.0,\n",
              " 3.0,\n",
              " 3.0,\n",
              " 3.0,\n",
              " 3.0,\n",
              " 3.0,\n",
              " 3.0,\n",
              " 3.0,\n",
              " 3.0,\n",
              " 3.0,\n",
              " 3.0,\n",
              " 3.0,\n",
              " 3.0,\n",
              " 3.0,\n",
              " 3.0,\n",
              " 3.0,\n",
              " 3.0,\n",
              " 3.0,\n",
              " 3.0,\n",
              " 3.0,\n",
              " 3.0,\n",
              " 3.0]"
            ]
          },
          "metadata": {},
          "execution_count": 9
        }
      ]
    },
    {
      "cell_type": "code",
      "source": [
        "plt.plot(w1_list, mse_list)"
      ],
      "metadata": {
        "colab": {
          "base_uri": "https://localhost:8080/",
          "height": 282
        },
        "id": "cTHRYLjQg9Ky",
        "outputId": "63d9a0bd-6d9a-43ca-c876-2b8b94e824dc"
      },
      "execution_count": 10,
      "outputs": [
        {
          "output_type": "execute_result",
          "data": {
            "text/plain": [
              "[<matplotlib.lines.Line2D at 0x7f8cbcdca610>]"
            ]
          },
          "metadata": {},
          "execution_count": 10
        },
        {
          "output_type": "display_data",
          "data": {
            "text/plain": [
              "<Figure size 432x288 with 1 Axes>"
            ],
            "image/png": "[encoded data removed]"
          },
          "metadata": {
            "needs_background": "light"
          }
        }
      ]
    }
  ]
}